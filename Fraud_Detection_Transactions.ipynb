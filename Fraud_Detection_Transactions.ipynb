{
  "nbformat": 4,
  "nbformat_minor": 0,
  "metadata": {
    "colab": {
      "provenance": [],
      "authorship_tag": "ABX9TyMVGcPNPhY8rAcj8yQAQmzm",
      "include_colab_link": true
    },
    "kernelspec": {
      "name": "python3",
      "display_name": "Python 3"
    },
    "language_info": {
      "name": "python"
    }
  },
  "cells": [
    {
      "cell_type": "markdown",
      "metadata": {
        "id": "view-in-github",
        "colab_type": "text"
      },
      "source": [
        "<a href=\"https://colab.research.google.com/github/MatiasSiles/MastercardSalesOptimization/blob/main/Fraud_Detection_Transactions.ipynb\" target=\"_parent\"><img src=\"https://colab.research.google.com/assets/colab-badge.svg\" alt=\"Open In Colab\"/></a>"
      ]
    },
    {
      "cell_type": "markdown",
      "source": [
        "Modelo de detección temprana de anomalías y fraudes financieros multivariado con series temporales, usando Deep Learning (LSTM/Transformer) y métodos bayesianos para estimar riesgo dinámico en transacciones Mastercard a nivel global."
      ],
      "metadata": {
        "id": "8PIT7SABBpho"
      }
    },
    {
      "cell_type": "markdown",
      "source": [
        "Detección en tiempo real de fraudes invisibles de bajo monto, usando anomalías multivariada"
      ],
      "metadata": {
        "id": "qc-uUZVIB1tg"
      }
    },
    {
      "cell_type": "code",
      "source": [
        "import sqlite3\n",
        "import pandas as pd\n",
        "import geopandas as gpd\n",
        "import matplotlib.pyplot as plt\n",
        "import warnings\n",
        "warnings.filterwarnings(\"ignore\")"
      ],
      "metadata": {
        "id": "ntJrK3QbKShi"
      },
      "execution_count": 2,
      "outputs": []
    },
    {
      "cell_type": "code",
      "source": [
        "!unzip -q /content/ne_110m_admin_0_countries.zip"
      ],
      "metadata": {
        "id": "pv7XqYC4BlNg"
      },
      "execution_count": 4,
      "outputs": []
    },
    {
      "cell_type": "code",
      "source": [
        "connection_db = sqlite3.connect(\"mastercard.db\")\n",
        "\n",
        "df_customers = pd.read_sql(\"SELECT * FROM customers\", connection_db)\n",
        "df_cards = pd.read_sql(\"SELECT * FROM cards\", connection_db)\n",
        "df_merchants = pd.read_sql(\"SELECT * FROM merchants\", connection_db)\n",
        "df_transactions = pd.read_sql(\"SELECT * FROM transactions\", connection_db)\n",
        "df_fraud_labels = pd.read_sql(\"SELECT * FROM fraud_labels\", connection_db)\n",
        "\n",
        "connection_db.close()"
      ],
      "metadata": {
        "id": "pRVrre9mKVg0"
      },
      "execution_count": 3,
      "outputs": []
    },
    {
      "cell_type": "code",
      "source": [
        "class fraud_analyzer():\n",
        "  def __init__(self, * ,customers=None, transactions=None, cards=None, fraud_labels=None):\n",
        "    self.customers = customers\n",
        "    self.transactions = transactions\n",
        "    self.cards = cards\n",
        "    self.fraud_labels = fraud_labels\n",
        "\n",
        "  def Customers(self):\n",
        "    fig, axes = plt.subplots(3,2, figsize=(16,8))\n",
        "    fig.suptitle(\"Customers Analysis\")\n",
        "\n",
        "    # plot1\n",
        "    axes[0,0].scatter(self.customers[\"age\"], self.customers[\"income\"], alpha=0.4)\n",
        "    axes[0,0].set_xlabel(\"Age\")\n",
        "    axes[0,0].set_ylabel(\"Income\")\n",
        "\n",
        "    # plot2\n",
        "    idcustomer_idtransaction_amount = pd.merge(self.cards, self.transactions, on=\"card_id\")[[\"customer_id\", \"transaction_id\",\"amount\"]]\n",
        "    income_vs_amount = pd.merge(idcustomer_idtransaction_amount, self.customers, on=\"customer_id\")[[\"income\", \"amount\"]]\n",
        "\n",
        "    axes[0,1].scatter(income_vs_amount[\"income\"], income_vs_amount[\"amount\"], alpha=0.2)\n",
        "    axes[0,1].set_xlabel(\"Income\")\n",
        "    axes[0,1].set_ylabel(\"Transaction Amount\")\n",
        "\n",
        "    # plot3\n",
        "    axes[1,0].hist(idcustomer_idtransaction_amount[\"customer_id\"], bins=50)\n",
        "    axes[1,0].set_xlabel(\"Customer ID\")\n",
        "    axes[1,0].set_ylabel(\"Transaction Frequency\")\n",
        "\n",
        "    # plot4\n",
        "    data = pd.merge(self.cards, self.transactions, on=\"card_id\")[[\"customer_id\",\"amount\"]]\n",
        "    data = data.groupby(\"customer_id\").mean()\n",
        "\n",
        "    axes[1,1].scatter(data.index, data[\"amount\"], alpha=0.3)\n",
        "    axes[1,1].set_xlabel(\"Customer ID\")\n",
        "    axes[1,1].set_ylabel(\"Average Transaction Amount\")\n",
        "\n",
        "    # plot5\n",
        "    self.transactions[\"timestamp\"] = pd.to_datetime(self.transactions[\"timestamp\"])\n",
        "    frequency_transaction_hour = self.transactions[\"timestamp\"].dt.hour.sort_values()\n",
        "\n",
        "    axes[2,0].hist(frequency_transaction_hour)\n",
        "    axes[2,0].set_xlabel(\"Hour\")\n",
        "    axes[2,0].set_ylabel(\"Transaction Frequency\")\n",
        "\n",
        "    # plot6\n",
        "    frequency_transaction_date = self.transactions[\"timestamp\"].sort_values()\n",
        "    frequency_transaction_date = self.transactions[\"timestamp\"].dt.date\n",
        "    frequency_transaction_date = pd.to_datetime(self.transactions[\"timestamp\"])\n",
        "\n",
        "    axes[2,1].hist(frequency_transaction_date, bins=80)\n",
        "    axes[2,1].set_xlabel(\"Date\")\n",
        "    axes[2,1].set_ylabel(\"Transaction Frequency\")\n",
        "\n",
        "    fig.tight_layout()\n",
        "\n",
        "  def transaction_customer_map(self):\n",
        "    world_map = gpd.read_file(\"/content/ne_110m_admin_0_countries.shp\")\n",
        "\n",
        "    countries = self.customers[\"country\"].value_counts().reset_index().rename(columns={\"country\":\"ISO_A2\"})\n",
        "    world_map = pd.merge(world_map, countries, on=\"ISO_A2\")\n",
        "\n",
        "    world_map.plot(column=\"count\", cmap=\"OrRd\", legend=True, color=\"lightblue\", figsize=(20,8))\n",
        "\n",
        "  def fraud_distribution(self):\n",
        "    data = self.fraud_labels[\"is_fraud\"].value_counts()\n",
        "    data.plot(kind=\"bar\")\n",
        "    frauds_total = data.iloc[data.index == 1].item()\n",
        "    fraud_porcent = (frauds_total * 100) / len(self.fraud_labels)\n",
        "\n",
        "    print(data)\n",
        "    print(f\"\\nFraud Porcent: {fraud_porcent}\")\n",
        "\n",
        "  class check_customers_cards():\n",
        "    def __init__(self, cards):\n",
        "      fraud_analyzer.cards\n",
        "\n",
        "    def barplot():\n",
        "      data = fraud_analyzer.cards[\"status\"].value_counts()\n",
        "      data.plot(kind=\"bar\")\n",
        "      plt.xlabel(\"\")\n",
        "      plt.ylabel(\"Number of Customers\")\n",
        "\n",
        "    def seeker():\n",
        "\n",
        "      while True:\n",
        "\n",
        "        prompt = int(input(\"Enter the client id or 0 to exit: \"))\n",
        "        print()\n",
        "\n",
        "        if prompt == 0:\n",
        "          break\n",
        "\n",
        "        elif prompt in fraud_analyzer.cards[\"customer_id\"].unique():\n",
        "          print(fraud_analyzer.cards[fraud_analyzer.cards[\"customer_id\"] == prompt])\n",
        "          print(\"\\n\\n\")\n",
        "\n",
        "        else:\n",
        "          print(\"Customer not found\")\n",
        "          print(\"\\n\\n\")\n",
        "\n",
        "fraud_analyzer = fraud_analyzer(customers=df_customers, transactions=df_transactions, cards=df_cards, fraud_labels=df_fraud_labels)"
      ],
      "metadata": {
        "id": "Q0wWSQdiOLk9"
      },
      "execution_count": 41,
      "outputs": []
    }
  ]
}