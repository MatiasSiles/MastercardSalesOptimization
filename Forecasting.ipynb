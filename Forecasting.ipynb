{
  "nbformat": 4,
  "nbformat_minor": 0,
  "metadata": {
    "colab": {
      "provenance": [],
      "authorship_tag": "ABX9TyPKFNherfGpcord1mljRAhF",
      "include_colab_link": true
    },
    "kernelspec": {
      "name": "python3",
      "display_name": "Python 3"
    },
    "language_info": {
      "name": "python"
    }
  },
  "cells": [
    {
      "cell_type": "markdown",
      "metadata": {
        "id": "view-in-github",
        "colab_type": "text"
      },
      "source": [
        "<a href=\"https://colab.research.google.com/github/MatiasSiles/MastercardSalesOptimization/blob/main/Forecasting.ipynb\" target=\"_parent\"><img src=\"https://colab.research.google.com/assets/colab-badge.svg\" alt=\"Open In Colab\"/></a>"
      ]
    },
    {
      "cell_type": "markdown",
      "source": [
        "This project only search predict the Mastercard Sales using a dataset more appropriate. I don't Data Wrangling because it is innecesary in this case and i want to focus in the most important"
      ],
      "metadata": {
        "id": "zFnpV1stN5fA"
      }
    },
    {
      "cell_type": "code",
      "source": [
        "import pandas as pd\n",
        "import numpy as np\n",
        "import matplotlib.pyplot as plt\n",
        "from plotly.graph_objects import Candlestick, Figure\n",
        "\n",
        "from statsmodels.tsa.holtwinters import ExponentialSmoothing\n",
        "from sklearn.ensemble import IsolationForest\n",
        "\n",
        "import warnings\n",
        "warnings.filterwarnings(\"ignore\")"
      ],
      "metadata": {
        "id": "Wpxg3nKwm_Xo"
      },
      "execution_count": null,
      "outputs": []
    },
    {
      "cell_type": "code",
      "source": [
        "# Configuration\n",
        "df = pd.read_csv(\"/content/Mastercard Dataset.csv\")\n",
        "df[\"Date\"] = pd.to_datetime(df[\"Date\"])\n",
        "df = df.loc[df.Date.dt.year >= 2018]\n",
        "sales = df[[\"Date\", \"Close\"]].set_index(df[\"Date\"]).drop(\"Date\", axis=1)"
      ],
      "metadata": {
        "id": "bCQnBl-7nB9f"
      },
      "execution_count": null,
      "outputs": []
    },
    {
      "cell_type": "code",
      "source": [
        "class Forecasting_Mastercard():\n",
        "  def __init__(self, *, data, data_sales):\n",
        "    self.data = data\n",
        "    self.data_sales = data_sales\n",
        "\n",
        "  class eda():\n",
        "    def __init__(self):\n",
        "      df = Forecasting_Mastercard.data\n",
        "      sales = Forecasting_Mastercard.data_sales\n",
        "\n",
        "    def stadistical_summary():\n",
        "      return df.select_dtypes(exclude=\"datetime\").describe().round(2)\n",
        "\n",
        "    def plot_stock():\n",
        "      df_plot_stock = df.drop(columns={\"Adj Close\",\"Volume\"}, axis=1).set_index(df[\"Date\"]).drop(\"Date\", axis=1)\n",
        "\n",
        "      Figure(data=[\n",
        "          Candlestick(\n",
        "              x=df_plot_stock.index, open=df_plot_stock[\"Open\"], high=df_plot_stock[\"High\"],\n",
        "              low=df_plot_stock[\"Low\"], close=df_plot_stock[\"Close\"])\n",
        "          ]).show()\n",
        "\n",
        "    def high_low_volatility():\n",
        "      df_high_low = df[[\"Date\", \"High\", \"Low\"]].set_index(df[\"Date\"]).drop(\"Date\", axis=1)\n",
        "      df_high_low = df_high_low[\"High\"] - df_high_low[\"Low\"]\n",
        "\n",
        "      df_high_low.plot(figsize=(15,5))\n",
        "      plt.show()\n",
        "\n",
        "    def daily_returns():\n",
        "      daily_returns = sales.Close.pct_change().dropna()\n",
        "\n",
        "      fig, axes = plt.subplots(1, 2, figsize=(15,5))\n",
        "      axes[0].hist(daily_returns)\n",
        "      axes[1].boxplot(daily_returns)\n",
        "      fig.suptitle(\"Relative Performance\")\n",
        "      plt.show()\n",
        "\n",
        "    def volume_analysis():\n",
        "      volume_hist = df[[\"Date\",\"Volume\"]].set_index(df[\"Date\"]).drop(\"Date\", axis=1)\n",
        "      volume_vs_close = df[[\"Date\",\"Close\",\"Volume\"]].set_index(df[\"Date\"]).drop(\"Date\", axis=1)\n",
        "\n",
        "      fig, axes = plt.subplots(1, 2, figsize=(15,5))\n",
        "      axes[0].scatter(volume_vs_close[\"Close\"], volume_vs_close[\"Volume\"])\n",
        "      axes[0].set_xlabel(\"Close\")\n",
        "      axes[0].set_ylabel(\"Volume(relative)\")\n",
        "\n",
        "      axes[1].hist(volume_hist) # Millions to relative numbers, e.g: 3 Millions = 0.3\n",
        "      axes[1].set_xlabel(\"Volume(relative)\")\n",
        "      axes[1].set_ylabel(\"Frequency\")\n",
        "      plt.show()\n",
        "\n",
        "    def movil_trend(*, window):\n",
        "      sma = sales.rolling(window=window).mean().dropna() # sma = simple movil average\n",
        "\n",
        "      sma.plot(figsize=(15,5))\n",
        "      plt.show()\n",
        "\n",
        "  class models():\n",
        "    def __init__(self, data):\n",
        "      df = Forecasting_Mastercard.data\n",
        "      sales = Forecasting_Mastercard.data_sales\n",
        "\n",
        "    def forecasting(*, end_date, seasonal_periods, trend, seasonal):\n",
        "      model = ExponentialSmoothing(sales[\"Close\"], trend=trend, seasonal=seasonal, seasonal_periods=seasonal_periods).fit()\n",
        "\n",
        "      sales[\"forecast\"] = model.fittedvalues.values.tolist() # save the forecast of current sales\n",
        "\n",
        "      start_date_future_sales = sales.index[-1] + pd.DateOffset(days=1)\n",
        "      start_date_future_sales = start_date_future_sales.strftime(\"%Y-%m-%d\")\n",
        "\n",
        "      dates_future_sales = pd.date_range(start=start_date_future_sales, end=end_date, freq='D')\n",
        "      predict_future_sales = model.forecast(len(dates_future_sales))\n",
        "      data_future_sales = pd.DataFrame({\"Close\": np.nan, \"forecast\":list(predict_future_sales)}, index=dates_future_sales)\n",
        "\n",
        "      df_forecast = pd.concat([sales, data_future_sales])\n",
        "      df_forecast[\"Close\"].plot(figsize=(20,5), color='g', linewidth=2.7)\n",
        "      df_forecast[\"forecast\"].plot(figsize=(20,5), color='orange', alpha=0.6)\n",
        "\n",
        "      plt.legend()\n",
        "\n",
        "      print(\"Metrics:\")\n",
        "      print(f\"MSE: {mean_squared_error(sales['Close'], sales['forecast'])}\")\n",
        "      print(f\"MAE: {mean_absolute_error(sales['Close'], sales['forecast'])}\")\n",
        "\n",
        "    def detection_anomalies_sales(*, sales, contamination): # detect piks, dips and anomalies\n",
        "      X = sales # because this model need a 2 dimensional container, not a serie, this is a serie but \"[[]]\" convert a df\n",
        "\n",
        "      model = IsolationForest(contamination=contamination, random_state=42) # 5% data will be anomaly\n",
        "      results = model.fit_predict(X)\n",
        "\n",
        "      sales[\"anomalies\"] = results\n",
        "      anomalies = sales[sales[\"anomalies\"] == -1]\n",
        "\n",
        "      plt.figure(figsize=(15,5))\n",
        "      sales[\"Close\"].plot()\n",
        "      plt.scatter(anomalies.index, anomalies[\"Close\"], color='red', label=\"Anomalies\")\n",
        "\n",
        "      plt.legend()\n",
        "\n",
        "Forecasting_Mastercard = Forecasting_Mastercard(data=df, data_sales=sales)"
      ],
      "metadata": {
        "id": "PHtoxTNpWtnq"
      },
      "execution_count": null,
      "outputs": []
    }
  ]
}